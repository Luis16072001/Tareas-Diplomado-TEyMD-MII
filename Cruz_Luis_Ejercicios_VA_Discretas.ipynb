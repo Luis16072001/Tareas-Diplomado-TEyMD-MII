{
 "cells": [
  {
   "cell_type": "markdown",
   "id": "d50d92d5",
   "metadata": {
    "id": "d50d92d5"
   },
   "source": [
    "# Variables aleatorias discretas"
   ]
  },
  {
   "cell_type": "code",
   "execution_count": 1,
   "id": "5I0QecDlX8mj",
   "metadata": {
    "id": "5I0QecDlX8mj"
   },
   "outputs": [],
   "source": [
    "import numpy as np #Importamos el modulo NuumPy\n",
    "import numpy.random as npr #Importamosun submódulo de NumPy que se utiliza para generar números aleatorios.\n",
    "\n",
    "import scipy.stats as sps #Impotamos el modulo SciPy\n",
    "from scipy.stats import randint #Para trabajar con una distribución uniforme discreta en un rango de enteros. funcion randit\n",
    "\n",
    "import matplotlib.pyplot as plt #Matplotlib es una biblioteca de visualización de datos en Python.\n",
    "\n",
    "import random #random es el módulo estándar de Python para la generación de números aleatorios.\n",
    "\n",
    "#warnings es un módulo de Python que permite gestionar y controlar los mensajes de advertencia (warnings) que el código podría generar.\n",
    "import warnings\n",
    "warnings.filterwarnings(\"ignore\")"
   ]
  },
  {
   "cell_type": "markdown",
   "id": "bd499bb5",
   "metadata": {
    "id": "bd499bb5"
   },
   "source": [
    "# Variable aleatoria uniforme discreta\n",
    "\n",
    "Una variable aleatoria $X$ tiene distribución uniforme discreta en el conjunto $\\{x_{1},\\dots,x_{n}\\}$ si su función de masa de probabilidades está dada por\n",
    "$$f_{X}(k)=\\mathbb{P}(X=k)=\\begin{cases}\n",
    "\\frac{1}{n} &\\quad \\text{si } k\\in\\{x_{1},\\dots,x_{n}\\} \\\\\n",
    "0 &\\quad \\text{en otro caso}\n",
    "\\end{cases}$$\n",
    "\n",
    "**Notación:** $X\\sim Unif(x_{1},\\dots,x_{n}).$\n",
    "\n",
    "Se llama uniforme porque cada uno de los posibles valores de $X$ tienen la misma probabilidad.\n",
    "\n",
    "Si $X\\sim Unif(x_{1},\\dots,x_{n})$, en este caso, se tiene:\n",
    "\t$$\\mathbb{E}[X] = \\sum_{k}kf_{X}(k)=\\frac{x_n + x_1}{2}.$$\n",
    "\ty\n",
    "\t$$\\text{Var}(X) = \\mathbb{E}[(X-\\mathbb{E}[X])^{2}] =\\sum_{k}(k-\\mathbb{E}[X])^{2}f_{X}(k)=\\frac{(x_n - x_1+1)^2-1}{12}$$\n",
    "\n",
    "$\\color{red}{\\text{Ejercicio 1.}}$ Verifica que, en efecto, la esperanza y varianza de una variable aleatoria uniforme discreta está dada como antes.\n",
    "\n",
    "### **SOLUCIÓN**\n",
    "\n",
    "Sea $\\mathbb{X} \\sim \\text{Unif}(\\{x_1, x_2, ..., x_n\\})$, entonces:\n",
    "\n",
    "$$\n",
    "\\mathbb{E}[X] = \\frac{x_n + x_1}{2}\n",
    "$$\n",
    "\n",
    "$$\n",
    "\\mathbb{V}\\text{ar}[X] = \\frac{(x_n - x_1 + 1)^2 - 1}{12}\n",
    "$$\n",
    "\n",
    "### **Demostración de la Esperanza**\n",
    "\n",
    "Sabemos que para nuestro caso, $\\mathbb{P}(X=x) = \\dfrac{1}{x_n - x_1 + 1}$ para $x \\in \\{x_1, ..., x_n\\}$.\n",
    "\n",
    "Entonces,\n",
    "\n",
    "$$\n",
    "\\mathbb{E}[X] = \\sum_{x=x_1}^{x_n} x \\cdot \\mathbb{P}(X=x) = \\frac{1}{x_n - x_1 + 1} \\sum_{x=x_1}^{x_n} x\n",
    "$$\n",
    "\n",
    "Sabemos que la suma de una secuencia aritmética es:\n",
    "\n",
    "$$\n",
    "\\sum_{x=x_1}^{x_n} x = \\frac{(x_n - x_1 + 1)(x_n + x_1)}{2}\n",
    "$$\n",
    "\n",
    "Por lo tanto, la esperanza es:\n",
    "\n",
    "$$\n",
    "\\mathbb{E}[X] = \\frac{1}{x_n - x_1 + 1} \\cdot \\frac{(x_n - x_1 + 1)(x_n + x_1)}{2} = \\frac{x_n + x_1}{2} \\quad \\blacksquare\n",
    "$$\n",
    "\n",
    "### **Cálculo de $\\mathbb{E}[X^2]$**\n",
    "\n",
    "Ahora, calculemos $\\mathbb{E}[X^2]$:\n",
    "\n",
    "$$\n",
    "\\mathbb{E}[X^2] = \\sum_{x=x_1}^{x_n} x^2 \\cdot \\mathbb{P}(X=x) = \\frac{1}{x_n - x_1 + 1} \\sum_{x=x_1}^{x_n} x^2\n",
    "$$\n",
    "\n",
    "Sabemos que la suma de los cuadrados de una secuencia aritmética es:\n",
    "\n",
    "$$\n",
    "\\sum_{x=x_1}^{x_n} x^2 = \\frac{(x_n - x_1 + 1)(2x_1^2 + 2x_n^2 + 2x_n x_1 - x_1 + x_n)}{6}\n",
    "$$\n",
    "\n",
    "Por lo tanto,\n",
    "\n",
    "$$\n",
    "\\mathbb{E}[X^2] = \\frac{2x_1^2 + 2x_n^2 + 2x_n x_1 - x_1 + x_n}{6} \\quad \\blacksquare\n",
    "$$\n",
    "\n",
    "### **Cálculo de la Varianza**\n",
    "\n",
    "Finalmente, la varianza se calcula como:\n",
    "\n",
    "$$\n",
    "\\mathbb{V}\\text{ar}[X] = \\mathbb{E}[X^2] - (\\mathbb{E}[X])^2\n",
    "$$\n",
    "\n",
    "Sustituyendo los valores calculados anteriormente:\n",
    "\n",
    "$$\n",
    "\\mathbb{V}\\text{ar}[X] = \\frac{2x_1^2 + 2x_n^2 + 2x_n x_1 - x_1 + x_n}{6} - \\left( \\frac{x_n + x_1}{2} \\right)^2\n",
    "$$\n",
    "\n",
    "Desarrollando el cuadrado del segundo término:\n",
    "\n",
    "$$\n",
    "\\mathbb{V}\\text{ar}[X] = \\frac{2x_1^2 + 2x_n^2 + 2x_n x_1 - x_1 + x_n}{6} - \\frac{x_1^2 + x_n^2 + 2x_n x_1}{4}\n",
    "$$\n",
    "\n",
    "Llevemos ambos términos al común denominador de 12:\n",
    "\n",
    "$$\n",
    "\\mathbb{V}\\text{ar}[X] = \\frac{2(2x_1^2 + 2x_n^2 + 2x_n x_1 - x_1 + x_n)}{12} - \\frac{3(x_1^2 + x_n^2 + 2x_n x_1)}{12}\n",
    "$$\n",
    "\n",
    "Multiplicando y combinando los términos:\n",
    "\n",
    "$$\n",
    "\\mathbb{V}\\text{ar}[X] = \\frac{4x_1^2 + 4x_n^2 + 4x_n x_1 - 2x_1 + 2x_n - 3x_1^2 - 3x_n^2 - 6x_n x_1}{12}\n",
    "$$\n",
    "\n",
    "Simplificando:\n",
    "\n",
    "$$\n",
    "\\mathbb{V}\\text{ar}[X] = \\frac{(x_1^2 + x_n^2 - 2x_n x_1 - 2x_1 + 2x_n + 1) - 1}{12}\n",
    "$$\n",
    "\n",
    "Por lo tanto, factorizando se tiene que:\n",
    "\n",
    "$$\n",
    "\\mathbb{V}\\text{ar}[X] = \\frac{(x_n - x_1 + 1)^2 - 1}{12} \\quad \\blacksquare\n",
    "$$"
   ]
  },
  {
   "cell_type": "markdown",
   "id": "UAQy3d5scoHX",
   "metadata": {
    "id": "UAQy3d5scoHX"
   },
   "source": [
    "$\\color{red}{\\text{Ejercicio 2.}}$ Dibuja a la función de distribución acumulada de la variable aleatoria:\n",
    "\n",
    "> Agregar bloque entrecomillado\n",
    "\n",
    "\n",
    "$$S:\\{1,2,3,4,5,6\\}^{2}\\to \\{2, 3, 4, 5, 6, 7, 8, 9, 10, 11, 12 \\}$$\n",
    "dada por\n",
    "$S(i,j)=i+j.$\n",
    "\n",
    "### **SOLUCIÓN**"
   ]
  },
  {
   "cell_type": "code",
   "execution_count": 10,
   "id": "7a36b3b3",
   "metadata": {},
   "outputs": [
    {
     "data": {
      "image/png": "[encoded data removed]",
      "text/plain": [
       "<Figure size 640x480 with 1 Axes>"
      ]
     },
     "metadata": {},
     "output_type": "display_data"
    }
   ],
   "source": [
    "#Importamos la librerias necesarios\n",
    "#Libreria para realizar el prodcuto cartesiano (Omega)\n",
    "from itertools import product\n",
    "from fractions import Fraction\n",
    "#Libreria para generar los diccionarios\n",
    "from collections import defaultdict\n",
    "import pandas as pd\n",
    "\n",
    "#Creamos nuestra funcion para calcular probabilidades\n",
    "def P(A, Omega):\n",
    "  P = Fraction(len(A),len(Omega))\n",
    "  return P\n",
    "\n",
    "#Primero vamos a crear a nuestro espacio muestral Omega\n",
    "#Usando compresion de listas creamos los posibles resultados al lanzar un dado\n",
    "L = [i for i in range(1,7)]\n",
    "#Generamos nuestro espacio muestral\n",
    "Omega = set(product(L, repeat=2))\n",
    "\n",
    "#Ahora calculamos nuestro espacio de resultados para el evento Sn tal como se definió anteriormente\n",
    "#Usamos compresion de diccionarios\n",
    "S = {(i,j): i+j for i,j in Omega}\n",
    "\n",
    "#Agregamos en un diccionario los posbiles resultados para cada n, es decir, para cada elemento de S\n",
    "#Generamos el diccionario\n",
    "dS = defaultdict(set)\n",
    "#Añadimos los posibles resultados y los resultados que llevan a ese resultado\n",
    "for i,j in S.items():\n",
    "  dS[j].add(i) #añadiendo al diccionario las llaves\n",
    "\n",
    "#Ahora calculamos la ley o la distribucion de nuestra Variable Aleatoria Sn\n",
    "#Usando compresion de diccionarios\n",
    "leyS = {k : P(A,Omega) for k,A in dS.items()}\n",
    "proba_tot_E_1 = sum(leyS.values())\n",
    "\n",
    "#Veamos la distribucion ordenada\n",
    "leyS = pd.Series(leyS)\n",
    "leyS = leyS.sort_index()\n",
    "\n",
    "#Importamos la libreria para realizar la grafica \n",
    "import matplotlib.pyplot as plt\n",
    "\n",
    "# Graficar la distribucion de la variable aleatoria S\n",
    "plt.bar(leyS.index, [float(p) for p in leyS], color='skyblue')  # Convertimos los valores de Fraction a float\n",
    "plt.xlabel('Resultado de la suma de los dos dados')\n",
    "plt.ylabel('Probabilidad')\n",
    "plt.title('Distribución Variable Aleatoria S (La suma de los resultados es n)')\n",
    "plt.xticks(leyS.index)\n",
    "plt.grid(True, axis='y', linestyle='--', alpha=0.7)\n",
    "\n",
    "# Mostrar la gráfica\n",
    "plt.show()"
   ]
  },
  {
   "cell_type": "markdown",
   "id": "1a2446e2",
   "metadata": {
    "id": "1a2446e2"
   },
   "source": [
    "## Variable aleatoria Bernoulli con parámetro $p\\in (0,1)$.\n",
    "\n",
    "El modelo probabilístico Bernoulli se aplica a un experimento cuyo espacio muestral está constituido sólo por dos resultados posibles, éxito y fracaso:\n",
    "\n",
    "Se considerará una v.a $X$ sobre el espacio muestral $$\\Omega=\\{\\text{éxito, fracaso}\\}$$\n",
    "de tal forma que\n",
    "* $X(\\{\\text{éxito}\\}) = 1$\n",
    "* $X(\\{\\text{fracaso}\\}) = 0$\n",
    "\n",
    "Las probabilidades asociadas a este modelo son:\n",
    "\n",
    "* $\\mathbb{P}(\\{\\text{éxito}\\}) = p$\n",
    "* $\\mathbb{P}(\\{\\text{fracaso}\\}) = 1-p$\n",
    "\n",
    "donde $0<p<1$.\n",
    "\n",
    "\n",
    "Entonces la función de densidad de masa de probabilidades de $X$ está dada por:\n",
    "\n",
    "$$f_{X}(k)=\\begin{cases}\n",
    "p &\\quad \\text{si } k=1 \\\\\n",
    "1-p &\\quad \\text{si } k=0\n",
    "\\end{cases}$$\n",
    "\n",
    "**Notación:** $X\\sim \\text{Ber}(p)$.\n",
    "\n",
    "Esta variable aleatoria es muy importante. En la practica es usada para modelar situaciones en las cuales hay dos posibles resultados como:\n",
    "* el estado de un teléfono en un momento dado: libre u ocupado.\n",
    "* una persona pueda estar enferma o sana de una determinada enfermedad.\n",
    "* la preferencia de una persona, la cual puede estar a favor o en contra de un candidato determinado.\n",
    "\n",
    "Mediante la combinación de variables aleatorias Bernoulli es posible construir otras variables aleatorias.\n",
    "\n",
    "### Esperanza y Varianza\n",
    "\n",
    "Si $X\\sim \\text{Ber}(p)$, entonces su esperanza es:\n",
    "\\begin{align*}\n",
    "\\mathbb{E}[X] = \\sum_{k=0}^{1}kf_{X}(k) = 1\\cdot p + 0\\cdot (1-p) = p.\n",
    "\\end{align*}\n",
    "\n",
    "Y su varianza se calcula usando,\n",
    "$$\\mathbb{E}[X^{2}] = \\sum_{k=0}^{1}k^{2}f_{X}(k) = 1^{2}\\cdot p + 0^{2}\\cdot (1-p) = p.$$\n",
    "Por lo tanto,\n",
    "$$\\text{Var}(X)=\\mathbb{E}[X^{2}]-(\\mathbb{E}[X])^{2} = p-p^{2} = p(1-p)$$\n",
    "\n"
   ]
  },
  {
   "cell_type": "markdown",
   "id": "5effadd4",
   "metadata": {
    "id": "5effadd4"
   },
   "source": [
    "## Variable aleatoria Binomial con parámetros $n$ y $p\\in (0,1)$.\n",
    "\n",
    "Decimos que una v.a $X$ tiene distribución binomial con párametros $n$ y $p$, si su función de densidad de masa de probabilidades está dada por:\n",
    "$$\\begin{equation*}\n",
    "\tf_{X}(k)=\\begin{cases}\n",
    "\t\\binom{n}{k}p^{k}(1-p)^{n-k} &\\quad \\text{si } k=0,1,\\dots,n \\\\\n",
    "\t\\qquad 0 &\\quad \\text{en otro caso}  \n",
    "\t\\end{cases}\n",
    "\\end{equation*}$$\n",
    "donde $n$ es un entero positivo y $0< p< 1$.\n",
    "\n",
    "La esperanza de $X$ es:\n",
    "\\begin{align*}\n",
    "\\mathbb{E}[X]&= \\sum_{k \\mathop = 0}^n k \\binom n k p^k (1-p)^{n - k}\\\\\n",
    "&=\\sum_{k \\mathop = 1}^n k \\binom n k p^k (1-p)^{n - k}\\\\\n",
    "&= \\sum_{k \\mathop = 1}^n n \\binom {n - 1} {k - 1} p^k (1-p)^{n - k}\\\\\n",
    "&= n p \\sum_{k \\mathop = 1}^n \\binom {n - 1} {k - 1} p^{k - 1} (1-p)^{( {n - 1}) - ( {k - 1}) }\\\\\n",
    "&=n p \\sum_{j \\mathop = 0}^m \\binom m j p^j (1-p)^{m - j}\\\\\n",
    "&=np\n",
    "\\end{align*}\n",
    "\n",
    "Ahora,\n",
    "\\begin{align*}\n",
    "\\mathbb{E}[X^2]&= \\sum_{k \\mathop = 0}^n k^2 \\binom n k p^k (1-p)^{n - k}\\\\\n",
    "&=\\sum_{k \\mathop = 0}^n k n \\binom {n - 1} {k - 1} p^k (1-p)^{n - k}\\\\\n",
    "&= n p \\sum_{k \\mathop = 1}^n k \\binom {n - 1} {k - 1} p^{k - 1} (1-p)^{({n - 1}) - ({k - 1}) }\\\\\n",
    "&= n p \\sum_{j \\mathop = 0}^m ({j + 1}) \\binom m j p^j (1-p)^{m - j}\\\\\n",
    "&=n p \\left( {\\sum_{j \\mathop = 0}^m j \\binom m j p^j (1-p)^{m - j} + \\sum_{j \\mathop = 0}^m \\binom m j p^j (1-p)^{m - j} }\\right)\\\\\n",
    "&=n p \\left( {\\sum_{j \\mathop = 0}^m m \\binom {m - 1} {j - 1} p^j (1-p)^{m - j} + \\sum_{j \\mathop = 0}^m \\binom m j p^j (1-p)^{m - j} }\\right)\\\\\n",
    "&= n p \\left( (n - 1) p \\sum_{j \\mathop = 1}^m \\binom {m - 1}{j - 1} p^{j - 1} (1-p)^{( {m - 1}) - ({j - 1}) } + \\sum_{j \\mathop = 0}^m \\binom m j p^j (1-p)^{m - j}\\right) \\\\\n",
    "&= n p \\left( (n - 1) p (p + (1-p))^{m - 1} + (p + (1-p))^m\\right)\\\\\n",
    "&= n p ((n - 1) p + 1)\\\\\n",
    "&= (np)^2 +np(1-p),\n",
    "\\end{align*}\n",
    "\n",
    "por lo que la varianza de $X$ es:\n",
    "$$\\text{Var}(X)=np(1-p).$$"
   ]
  },
  {
   "cell_type": "markdown",
   "id": "73pLB0Hmg5e4",
   "metadata": {
    "id": "73pLB0Hmg5e4"
   },
   "source": [
    "# Variable aleatoria Poisson\n",
    "\n",
    "Es una distribución de probabilidad discreta que  sirve para calcular la probabilidad de que ocurra un determinado número de eventos raros durante un intervalo dado (puede ser de tiempo, longitud, área, etc.\n",
    "\n",
    "Esta variable aleatoria toma los valores sobre el conjunto $\\{0,1,2,\\dots\\}$ y tiene un parámetro $\\lambda>0$, el cual representa el número de veces que se espera que ocurra un evento durante un intervalo dado.\n",
    "\n",
    "La función de masa de probabilidades de una variable aleatoria Poisson, $X$, está dada por:\n",
    "$$f_{X}(k)=\\begin{cases}\n",
    "\te^{-\\lambda}\\frac{\\lambda^{k}}{k!} &\\quad \\text{si } k=0,1,2,\\dots \\\\\n",
    "\t0 &\\quad \\text{en otro caso}  \n",
    "\\end{cases}$$\n",
    "\n",
    "En efecto, es una función de masa de probabilidades debido a que\n",
    "$$\\begin{align*}\n",
    "\\sum_{k=0}^{\\infty}e^{-\\lambda}\\frac{\\lambda^{k}}{k!} &= e^{-\\lambda}\\sum_{k=0}^{\\infty}\\frac{\\lambda^{k}}{k!} \\\\ &= e^{-\\lambda}\\underbrace{\\left(1+\\lambda+\\frac{\\lambda^{2}}{2!}+\\frac{\\lambda^{3}}{3!}+\\cdots\\right)}_{\\text{desarrollo de Taylor de }e^{\\lambda}} \\\\ &= e^{-\\lambda}e^{\\lambda}=1.\n",
    "\\end{align*}$$\n",
    "\n",
    "**Aplicaciones**\n",
    "\n",
    "**Ejemplo:** Supongamos que el número de accidentes que ocurre en un punto tiene una distribución Poisson con parámetro $\\lambda=2$.\n",
    "* ¿Cuál es la probabilidad de que en un día ocurran más de dos accidentes?\n",
    "  $$\\begin{align*}\n",
    "\t\\mathbb{P}(X>2) &= 1-\\mathbb{P}(X\\le 2) \\\\ &=1-\\left[\\mathbb{P}(X=0)+\\mathbb{P}(X=1)+\\mathbb{P}(X=2)\\right] \\\\ &= 1-\\left[\\frac{e^{-2}2^{0}}{0!}+\\frac{e^{-2}2^{1}}{1!}+\\frac{e^{-2}2^{2}}{2!}\\right] \\\\ &= 1-e^{-2}\\left[1+2+2\\right] = 1-5e^{-2} = 0.3233\n",
    "  \\end{align*}$$\n",
    "\n",
    "* ¿Cuál es la probabilidad de que en un día ocurran más de dos accidentes, sabiendo que ocurre por lo menos uno?\n",
    "$$\\begin{align*}\n",
    "\\mathbb{P}(X>2 \\mid X\\ge 1) = \\frac{\\mathbb{P}(X>2 \\mid X\\ge 1)}{\\mathbb{P}(X\\ge 1)} = \\frac{\\mathbb{P}(X>2)}{\\mathbb{P}(X\\ge 1)} = \\frac{1-5e^{-2}}{1-e^{-2}} = \\frac{0.3233}{0.8646} = 0.3739\n",
    "\\end{align*}$$\n",
    "ya que $\\mathbb{P}(X\\ge 1)=1-\\mathbb{P}(X<1)=1-\\mathbb{P}(X=0)=1-e^{-2}$\n",
    "\n",
    "$\\color{red}{\\text{Ejercicio 3.}}$ Usando el atributo `.cdf` [Poisson](https://docs.scipy.org/doc/scipy/reference/generated/scipy.stats.poisson.html) calcula las probabilidades anteriores.\n",
    "\n",
    "### **SOLUCIÓN**"
   ]
  },
  {
   "cell_type": "code",
   "execution_count": 4,
   "id": "23f21ae8",
   "metadata": {},
   "outputs": [
    {
     "name": "stdout",
     "output_type": "stream",
     "text": [
      "La probabilidad de que en un día ocurran más de dos accidentes es 0.3233235838169366\n",
      "La probabilidad de que en un día ocurran más de dos accidentes, sabiendo que ocurre por lo menos uno es 0.37392942900133747\n"
     ]
    }
   ],
   "source": [
    "from scipy.stats import poisson\n",
    "P1 = 1 - poisson.cdf(2, 2)\n",
    "P2 = (1 - poisson.cdf(2, 2))/(1 - poisson.cdf(0, 2))\n",
    "print(f'La probabilidad de que en un día ocurran más de dos accidentes es {P1}')\n",
    "print(f'La probabilidad de que en un día ocurran más de dos accidentes, sabiendo que ocurre por lo menos uno es {P2}')"
   ]
  },
  {
   "cell_type": "markdown",
   "id": "e0kiemN6jl4e",
   "metadata": {
    "id": "e0kiemN6jl4e"
   },
   "source": [
    "## Aproximación de Poisson a la Binomial\n",
    "La distribución de Poisson es una forma límite de la distribución binomial, es decir, es una buena aproximación cuando $n$ es suficientemente grande y $p$ suficientemente pequeña.\n",
    "\n",
    "$\\textbf{Teorema (Poisson).-}$ Sean $S_{n}\\sim Bin(n,p_{n})$ bajo el regimen $$\\lim_{n\\to \\infty}np_{n}=\\lambda>0.$$\n",
    "Consideremos la siguiente sucesión de números reales:\n",
    "$$a_{j}(n,p_n)=\\begin{cases}\\binom{n}{j}(p_n)^{j}(1-p_{n})^{n-j} & j\\leq n\\\\\n",
    "0 & j\\geq n+1\\end{cases}$$\n",
    "\n",
    " Entonces,\n",
    " $$\\lim_{n\\to \\infty}a_{j}(n,p_n)=a_{j}=e^{-\\lambda}\\frac{\\lambda^{j}}{j!} \\ \\ \\forall j\\in \\mathbb{N}.$$\n",
    "\n",
    " El teorema anterior implica que la distribución de Poisson ofrece un modelo probabilístico adecuado para todos aquellos experimentos aleatorios \ten los que las repeticiones son independientes unas de otras y en los \tque sólo hay dos posibles resultados: éxito o fracaso, con probabilidad de \téxito pequeña, y en los que el interés se centra en conocer el número de éxitos obtenidos al realizar el experimento un número suficientemente grande de veces."
   ]
  },
  {
   "cell_type": "markdown",
   "id": "4mz4tCaWg84X",
   "metadata": {
    "id": "4mz4tCaWg84X"
   },
   "source": [
    "## Variable aleatoria Geométrica con parámetro $p\\in (0,1)$.\n",
    "\n",
    "Esta variable aleatoria cuenta el número de fracasos antes del primer éxito en ensayos bernoulli independientes con parámetro $0<p<1$, y su función de masa de probabilidades está dada por:\n",
    "$$f_{X}(k)=\\begin{cases}\n",
    "\tp(1-p)^{k-1} &\\quad \\text{si } k=1,2,\\dots \\\\\n",
    "\t\\qquad 0 &\\quad \\text{en otro caso}  \n",
    "\\end{cases}$$\n",
    "\n",
    "\n",
    "Notación. $X\\sim Geo(p)$\n",
    "\n",
    "La cual es una función de densidad ya que:\n",
    "* $0\\le f_{X}(k)\\le 1$ para toda $x$.\n",
    "* $$\\begin{align*}\n",
    "\t\\sum_{k\\in R_{X}}f_{X}(k) &= \\sum_{k=1}^{\\infty}(1-p)^{k-1}p \\\\\n",
    "\t\t\t&= p\\sum_{y=0}^{\\infty}(1-p)^{y} \\\\\n",
    "\t\t\t&= p\\left(\\frac{1}{1-(1-p)}\\right) = 1\n",
    "\t\t\\end{align*}$$\n",
    "\n",
    "Si por el contrario queremos contar el número de éxitos antes del primer fracaso, tenemos que la función de está dada por:\n",
    "\t$$f_{X}(k)=\\begin{cases}\n",
    "\t\tp^{k}(1-p) &\\quad \\text{si } k=0,1,2,\\dots \\\\\n",
    "\t\t\\qquad 0 &\\quad \\text{en otro caso}  \n",
    "\t\\end{cases}$$\n",
    "\n",
    "Para calcular la Esperanza y Varianza de $X$, necesitamos del siguiente lema:\n",
    "\n",
    "**Lema 1** Sea $x$ un número real tal que $│x│<1$. Entonces,\n",
    "$$\\sum_{k=1}^{\\infty}kx^{k-1}=\\frac{1}{(1-x)^2}.$$\n",
    "**Demostración.** Se tiene que\n",
    "$$\\frac{d}{dx}\\sum_{k=1}^{\\infty}x^{k}=\\sum_{k=1}^{\\infty}kx^{k-1}.$$\n",
    "Además,\n",
    "$$\\sum_{k=1}^{\\infty}x^{k}=\\frac{x}{1-x}.$$\n",
    "Por lo tanto,\n",
    "$$\\frac{d}{dx}\\frac{x}{1-x}=\\frac{1}{(1-x)^2}.$$\n",
    "\n",
    "Como corolario,\n",
    "$$\\sum_{k=1}^{\\infty}k(k+1)x^{k-1}=\\frac{2}{(1-x)^2}.$$\n",
    "En efecto,\n",
    "$$\\frac{d}{dx}\\sum_{k=1}^{\\infty}(k+1)x^{k}=\\sum_{k=1}^{\\infty}k(k+1)x^{k-1}.$$\n",
    "Ahora,\n",
    "$$\\sum_{k=1}^{\\infty}(k+1)x^{k}=\\sum_{m=2}^{\\infty}mx^{m-1}=\\frac{1}{(1-x)^2}-1.$$\n",
    "\n",
    "Usando estos resultados, la esperanza de $X$ es:\n",
    "\\begin{align*}\n",
    "\\mathbb{E}[X]&=  \\sum_{x \\mathop \\ge 1} k p(1-p)^{k - 1}\\\\\n",
    "&= p \\frac 1 {(1 - (1-p))^2}\\\\\n",
    "&=  \\frac p {p^2}\\\\\n",
    "&=\\frac{1}{p}\n",
    "\\end{align*}\n",
    "\n",
    "Calculamos,\n",
    "\\begin{align*}\n",
    "\\mathbb{E}[X^2]&= \\sum_{k=1}^{\\infty} x^{2}p(1-p)^{k-1}\\\\\n",
    "&=\\sum_{k=1}^{\\infty}k(k+1)(1-p)^{k-1}p-\\sum_{k=1}^{\\infty}p(1-p)^{k-1}\n",
    "\\end{align*}\n",
    "\n",
    "Por el Lema 1,\n",
    "$$\\mathbb{E}[X^2]=p\\frac{2}{p^3}-\\frac{1}{p}=\\frac{2}{p^2}-\\frac{1}{p}.$$\n",
    "\n",
    "Por lo tanto,\n",
    "$$\\text{Var}(X)=\\frac{2}{p^2}-\\frac{1}{p}-\\frac{1}{p^2}=\\frac{1-p}{p^2}.$$"
   ]
  },
  {
   "cell_type": "markdown",
   "id": "I39XPyC-nW6W",
   "metadata": {
    "id": "I39XPyC-nW6W"
   },
   "source": [
    "## Variable aleatoria Binomial Negativa con parámetros $r\\geq 1$ y $p\\in (0,1)$.\n",
    "\n",
    "Supongamos que se realizan ensayos independientes, cada uno con probabilidad $0<p<1$ de ser un éxito, hasta obtener un total de $r$ éxitos acumulados. Sea $X$ el número de ensayos que se requieren, entonces su función de masa de probabilidades está dada por:\n",
    "$$f_{X}(k)=\\begin{cases}\n",
    "\t\\binom{n-1}{r-1}p^{r}(1-p)^{n-r} &\\quad \\text{si } n=r,r+1,\\dots \\\\\n",
    "\t\\qquad 0 &\\quad \\text{en otro caso}  \n",
    "\\end{cases}$$\n",
    "\n",
    "\n",
    "\n",
    "Notación. $X\\sim \\text{BN}(r,p)$.\n",
    "\n",
    "Se tiene que\n",
    "$$\\mathbb{E}[X]=\\frac{r}{p}$$\n",
    "y\n",
    "$$\\text{Var}[X]=\\frac{r(1-p)}{p^2}.$$"
   ]
  },
  {
   "cell_type": "markdown",
   "id": "oK1C4dqX0OwD",
   "metadata": {
    "id": "oK1C4dqX0OwD"
   },
   "source": [
    "$\\color{red}{\\text{Ejercicio 4.}}$ Un examen de Estadística consta de 20 preguntas tipo test y se conoce de experiencias\n",
    "anteriores que un alumno tiene probabilidad 0.7 de contestar bien cada pregunta. Obtener:\n",
    "\n",
    "a) La probabilidad de que la primera pregunta que contesta bien sea la cuarta.\n",
    "\n",
    "b) Sabiendo que para aprobar el examen es necesario contestar bien a 10 preguntas, ¿cuál es la probabilidad de que apruebe al contestar la pregunta duodécima?\n",
    "\n",
    "### **SOLUCIÓN**\n",
    "\n",
    "**a)** Sabemos que la probabilidad de contestar bien una pregunta es de $p=0.7$.\n",
    "\n",
    "Esto puede ser calculado utilizando la distribución gemétrica, pues, sabemos que en este caso $X \\sim Geo(p)$ considerando que X modela el número de intentos antes del primer éxito.\n",
    "\n",
    "En nuestro caso estamos interesados en calcular $\\mathbb{P}[X = 4]$. De esta manera, \n",
    "\n",
    "$$\\mathbb{P}[X = 4] = 0.7(1-0.7)^{3} = 0.0189$$\n",
    "\n",
    "Esto también se puede hacer en python usando **geom.pmf**"
   ]
  },
  {
   "cell_type": "code",
   "execution_count": 6,
   "id": "2e079c1a",
   "metadata": {},
   "outputs": [
    {
     "data": {
      "text/plain": [
       "0.018900000000000007"
      ]
     },
     "execution_count": 6,
     "metadata": {},
     "output_type": "execute_result"
    }
   ],
   "source": [
    "sps.geom.pmf(4, 0.7)"
   ]
  },
  {
   "cell_type": "markdown",
   "id": "50f4abd2",
   "metadata": {},
   "source": [
    "**b)** Para este caso definamos tres eventos,\n",
    "\n",
    "    -A. El evento en el que en las primeras 11 preguntas se obtienen 9 aciertos.\n",
    "    -B. El evento en el que la pregunta nuúmero 12 es correcta.\n",
    "    -C. El evento en el que se apruebe el examen al contestar la duodecima pregunta.\n",
    "    \n",
    "Notemos que la probabilidad del evento A se puede calcular usando la distribución binomial. De esta manera sea $X$ la variable aleatoria que modela el obtener $k$ aciertos en $n$ preguntas donde cada pregunta tiene una probabilidad de ser contestada correctamente de $p = 0.7$, se tiene que: \n",
    "\n",
    "$$X \\sim Bin(n,p)$$\n",
    "\n",
    "Para el evento A, tenemos que $n = 11$, $k=9$. Por lo que,\n",
    "\n",
    "$$\\mathbb{P}[A] = \\mathbb{P}[X = 9] = \\binom{11}{9}(0.7)^{9}(1-0.7)^{11-9}$$\n",
    "\n",
    "Por otro lado, para el evento B, dado que cada pregunta se puede ver como un ensayo bernoulli con probabilidad $p = 0.7$. Es decir, la probabilidad de acertar la pregunta 12 es $\\mathbb{P}[B] = 0.7$.\n",
    "\n",
    "Por lo tanto, dado que todas las preguntas son ensayos independientes, la probabilidad del evento C, se puede ver de la siguiente manera \n",
    "\n",
    "$$\\mathbb{P}[C] = \\mathbb{P}[A] \\cdot \\mathbb{P}[B] = \\binom{11}{9}(0.7)^{9}(1-0.7)^{11-9} \\cdot (0.7) = \\binom{11}{9}(0.7)^{10}(1-0.7)^{11-9} = 0.1398$$\n",
    "\n",
    "Esto se puede calcular usando **binom.pmf** en python de la siguiente manera:\n"
   ]
  },
  {
   "cell_type": "code",
   "execution_count": 13,
   "id": "2ed545a4",
   "metadata": {},
   "outputs": [
    {
     "name": "stdout",
     "output_type": "stream",
     "text": [
      "La probabilidad de que apruebe al contestar la pregunta duodécima es 0.13982524825499987\n"
     ]
    }
   ],
   "source": [
    "#Para el evento A\n",
    "#Numero de preguntas\n",
    "n = 11\n",
    "#Numero de aciertos en el numero de preguntas\n",
    "k = 9\n",
    "#Probabilidad de tener bien cada pregunta\n",
    "p = 0.7\n",
    "#Calculamos la probabilidad del evento A\n",
    "PA = sps.binom.pmf(k, n, p)\n",
    "#En este caso la proba del evento B es p = 0.7 por lo que podemos caclular directamente la proba de nuestro evento C\n",
    "PC = p * PA\n",
    "\n",
    "print(f'La probabilidad de que apruebe al contestar la pregunta duodécima es {PC}')"
   ]
  },
  {
   "cell_type": "markdown",
   "id": "e92548c8",
   "metadata": {},
   "source": [
    "$\\color{red}{\\text{Ejercicio 5.}}$ Investigue sobre el problema de la caja de cerillos de Banach y explique su solución.\n",
    "\n",
    "### **SOLUCIÓN**\n",
    "\n",
    "El **Problema de Banach** establece lo siguiente,\n",
    "\n",
    "En todo momento, Banach lleva 2 cajas de cerillos, una en su bolsillo izquierdo y otra en su bolsillo derecho. Cada vez que necesita un cerillos es igualmente probable que lo saque de cualquier bolsillo. Considere el momento en que Banach descubre por primera vez que una de sus cajas de cerillos esta vacía. Si se supone que ambas cajas de cerillos iniciamente contenian N cerillos, ¿Cuál es la probabilidad de que haya exactamente k (k = 0, 1, 2, ... ,N) cerillos en la otra caja?\n",
    "\n",
    "**SOLUCIÓN**\n",
    "\n",
    "Definamos los guientes eventos:\n",
    "\n",
    "**I**:= El evento en el que Banach saca un cerillo de la caja de su bolsillo izquierdo.\n",
    "\n",
    "**D**:= El evento en el que Banach saca un cerillo de la caja de su bolsillo derecho.\n",
    "\n",
    "**B**:= El evento en el que en una de las cajas hay k cerillos y en la otra caja esta vacía.\n",
    "\n",
    "Dado que es igual de probable que Banach saque un cerillo de su bolsillo derecho o de su bolsillo izquierdo, se tiene que \n",
    "\n",
    "$$\\mathbb{P}[I] = \\mathbb{P}[D] = \\frac{1}{2}$$\n",
    "\n",
    "Para cualquiera de las dos cajas, sea X la variable aleatoria que modela el número de éxitos dados de N+1 fracasos (considerando fracaso al evento en el que se saca una cerillo de alguna de las cajas, es por ello, que se consideran N+1 fracasos, pues despues de que se sacan N cerillos la caja ya se encuentra vacía), tiene una distribución Binomial Negativa.\n",
    "\n",
    "De esta manera, considerando **k** como el numero de exitos y **N+1** como el número de fracasos, se tiene que \n",
    "\n",
    "$$\\mathbb{P}[X = k] = \\binom{k+N+1-1}{k}\\big(\\frac{1}{2}\\big)^{k}\\big(1-\\frac{1}{2}\\big)^{N+1} =  \\binom{k+N}{k}\\big(\\frac{1}{2}\\big)^{k+N+1}$$\n",
    "\n",
    "Buscamos calcular la probabilidad de que queden k cerillos en alguna de las cajas, es decir, buscamos **N-k** éxitos antes de **N+1** fallos. De esta manera, la probabilidad de que uno de las cajas se quede sin cerillos y la otra tenga k cerillos es:\n",
    "\n",
    "$$\\mathbb{P}[X = k] = \\binom{N-k+N}{N-k}\\big(\\frac{1}{2}\\big)^{N-k+N+1} =  \\binom{2N-k}{N-k}\\big(\\frac{1}{2}\\big)^{2N-k+1}$$\n",
    "\n",
    "Ahora, dado que lo anterior puede ocurrir para cualquiera de las dos cajas, se tiene que la probabilidad de nuestro evento B es:\n",
    "\n",
    "$$\\mathbb{P}[B] = 2 \\cdot \\binom{2N-k}{N-k}\\big(\\frac{1}{2}\\big)^{2N-k+1} =  2 \\cdot \\big(\\frac{1}{2}\\big) \\binom{2N-k}{N-k}\\big(\\frac{1}{2}\\big)^{2N-k} = \\binom{2N-k}{N-k}\\big(\\frac{1}{2}\\big)^{2N-k}\\quad_\\blacksquare$$"
   ]
  },
  {
   "cell_type": "markdown",
   "id": "8veKIbyeoJNy",
   "metadata": {
    "id": "8veKIbyeoJNy"
   },
   "source": [
    "## Variable aleatoria Hipergeométrica con parámetros $n,N,m$.\n",
    "\n",
    "Supongamos que se elige, sin reemplazo, una muestra de tamaño $n$ de una urna que contiene $N$ bolas, de las cuales $m$ son rojas y $N-m$ son verdes. Sea $X$ el número de ebolas rojas seleccionadas, entonces su función de masa de probabilidades está dada por:\n",
    "$$f_{X}(k)=\n",
    "\t\\frac{\\binom{m}{i}\\binom{N-m}{n-i}}{\\binom{N}{n}} \\quad \\text{si } i=0,1,\\dots, n  \n",
    "$$\n",
    "\n",
    "\n",
    "\n",
    "Notación. $X\\sim \\text{Hiper}(n,N,m)$.\n",
    "\n",
    "Se tiene que\n",
    "$$\\mathbb{E}[X]=\\frac{nm}{N}$$\n",
    "y\n",
    "$$\\text{Var}[X]=\\frac{nm}{N}\\left[\\frac{(n-1)(m-1)}{N-1}+1-\\frac{nm}{N} \\right].$$\n",
    "\n",
    "**Nota.** Si $i\\leq n$ y $X\\sim \\text{Hiper}(n,N,m)$, cuando $p=\\frac{m}{N}$ y $m,N$ son muy grandes con respecto a $n$ e $i$:\n",
    "$$\\mathbb{P}(X=i)\\approx \\binom{n}{i}p^{i}(1-p)^{n-i}.$$"
   ]
  },
  {
   "cell_type": "code",
   "execution_count": 31,
   "id": "VuBGAdmp051e",
   "metadata": {
    "colab": {
     "base_uri": "https://localhost:8080/",
     "height": 508
    },
    "id": "VuBGAdmp051e",
    "outputId": "d6d57553-d90c-4f87-be50-372bc1777924"
   },
   "outputs": [
    {
     "data": {
      "image/png": "[encoded data removed]",
      "text/plain": [
       "<Figure size 1000x500 with 1 Axes>"
      ]
     },
     "metadata": {},
     "output_type": "display_data"
    }
   ],
   "source": [
    "# Simulación de una distribución hipergeometrica.\n",
    "n = 40  # tamaño total de la población\n",
    "m = 32  # número de éxitos en la población\n",
    "N = 7   # número de muestras (tamaño de la muestra)\n",
    "s = 100 # número de simulaciones (tamaño de la muestra generada)\n",
    "\n",
    "\n",
    "random.seed(3)\n",
    "# Generamos variables aleatorias hipergeométricas\n",
    "geom_numeros = sps.hypergeom.rvs(n, m, N, size=s)\n",
    "\n",
    "#Creo un histograma\n",
    "plt.figure(figsize=(10, 5))\n",
    "plt.hist(\n",
    "    geom_numeros,\n",
    "    density=True,\n",
    "    bins=len(np.unique(geom_numeros)),\n",
    "    color=\"#5865F2\",\n",
    "    edgecolor=\"grey\",\n",
    ")\n",
    "plt.xlabel(\" \")\n",
    "plt.ylabel(\"Probabilidad\")\n",
    "plt.title(\"Distribución HG \\npara [40,7,32]\")\n",
    "plt.xticks(\n",
    "    np.arange(min(geom_numeros), max(geom_numeros) + 1, 2.0)\n",
    ")\n",
    "plt.show()"
   ]
  },
  {
   "cell_type": "markdown",
   "id": "V1rp8sMJpwiz",
   "metadata": {
    "id": "V1rp8sMJpwiz"
   },
   "source": [
    "$\\color{red}{\\text{Ejercicio 6.}}$ Una compañía petrolera realiza un estudio geológico que indica que un pozo petrolero exploratorio debería tener un 20% de posibilidades de encontrar petróleo.\n",
    "\n",
    "- ¿Cuál es la probabilidad de que el primer pozo se produzca en el tercer pozo perforado?\n",
    "\n",
    "- ¿Cuál es la probabilidad de que el tercer pozo se produzca en el séptimo pozo perforado?\n",
    "\n",
    "- ¿Cuál es la media y la varianza del número de pozos que se deben perforar si la compañía petrolera quiere establecer tres pozos productores?"
   ]
  }
 ],
 "metadata": {
  "colab": {
   "provenance": []
  },
  "kernelspec": {
   "display_name": "Python 3 (ipykernel)",
   "language": "python",
   "name": "python3"
  },
  "language_info": {
   "codemirror_mode": {
    "name": "ipython",
    "version": 3
   },
   "file_extension": ".py",
   "mimetype": "text/x-python",
   "name": "python",
   "nbconvert_exporter": "python",
   "pygments_lexer": "ipython3",
   "version": "3.11.4"
  }
 },
 "nbformat": 4,
 "nbformat_minor": 5
}
