{
 "cells": [
  {
   "cell_type": "markdown",
   "id": "103bc6cb",
   "metadata": {},
   "source": [
    "## Ejemplo de la v.a. uniforme\n",
    "\n",
    "Sea el experimento aleatorio de lanzar dos dados justos:\n",
    "* $\\Omega = \\{1,2,3,4,5,6\\}\\times \\{1,2,3,4,5,6\\} $\n",
    "* $\\mathcal{F} = P(\\Omega)$\n",
    "* Para $w=(i,j)$ donde $i,j\\in\\{1,...,6\\}$ talque\n",
    "   $$\\mathbb{P}( \\{ \\omega \\} )=\\frac{1}{36}$$\n",
    "\n",
    "Vamos a definir a la siguiente variable aleatoria:\n",
    "     $$S:\\Omega \\to R_{S}$$\n",
    "\n",
    "donde $R_{S}=\\{2,3,4,5,6,7,8,9,10,11,12\\}$    \n",
    "\n",
    "Para que entendamos la ley de una v.a., basta con entender los siguientes datos\n",
    "\n",
    "$$\\{(k,\\mathbb{P}(S=k))\\}_{k\\in R_{S}}$$\n",
    "\n",
    "Vamos a entender a $S$ como eventos.\n",
    "\n",
    "Sea $S_{n}$ el evento la suma de las caras es $n$.\n",
    "\n",
    "$$S_{n} = \\{(i,j)\\in\\Omega \\mid i+j =n \\} $$"
   ]
  },
  {
   "cell_type": "code",
   "execution_count": 1,
   "id": "aa001463",
   "metadata": {},
   "outputs": [
    {
     "name": "stdout",
     "output_type": "stream",
     "text": [
      "2     1/36\n",
      "3     1/18\n",
      "4     1/12\n",
      "5      1/9\n",
      "6     5/36\n",
      "7      1/6\n",
      "8     5/36\n",
      "9      1/9\n",
      "10    1/12\n",
      "11    1/18\n",
      "12    1/36\n",
      "dtype: object\n",
      "1\n"
     ]
    }
   ],
   "source": [
    "#Importamos la librerias necesarios\n",
    "#Libreria para realizar el prodcuto cartesiano (Omega)\n",
    "from itertools import product\n",
    "from fractions import Fraction\n",
    "#Libreria para generar los diccionarios\n",
    "from collections import defaultdict\n",
    "import pandas as pd\n",
    "\n",
    "#Creamos nuestra funcion para calcular probabilidades\n",
    "def P(A, Omega):\n",
    "  P = Fraction(len(A),len(Omega))\n",
    "  return P\n",
    "\n",
    "#Primero vamos a crear a nuestro espacio muestral Omega\n",
    "#Usando compresion de listas creamos los posibles resultados al lanzar un dado\n",
    "L = [i for i in range(1,7)]\n",
    "#Generamos nuestro espacio muestral\n",
    "Omega = set(product(L, repeat=2))\n",
    "\n",
    "#Ahora calculamos nuestro espacio de resultados para el evento Sn tal como se definió anteriormente\n",
    "#Usamos compresion de diccionarios\n",
    "S = {(i,j): i+j for i,j in Omega}\n",
    "\n",
    "#Agregamos en un diccionario los posbiles resultados para cada n, es decir, para cada elemento de S\n",
    "#Generamos el diccionario\n",
    "dS = defaultdict(set)\n",
    "#Añadimos los posibles resultados y los resultados que llevan a ese resultado\n",
    "for i,j in S.items():\n",
    "  dS[j].add(i) #añadiendo al diccionario las llaves\n",
    "\n",
    "#Ahora calculamos la ley o la distribucion de nuestra Variable Aleatoria Sn\n",
    "#Usando compresion de diccionarios\n",
    "leyS = {k : P(A,Omega) for k,A in dS.items()}\n",
    "proba_tot_E_1 = sum(leyS.values())\n",
    "\n",
    "#Veamos la distribucion ordenada\n",
    "leyS = pd.Series(leyS)\n",
    "leyS = leyS.sort_index()\n",
    "\n",
    "#Veamos como se ve la distribución\n",
    "print(leyS)\n",
    "print(proba_tot_E_1)"
   ]
  },
  {
   "cell_type": "markdown",
   "id": "0ddbaa39",
   "metadata": {},
   "source": [
    "## Ejercicios\n",
    "\n",
    "1.   Documenta tu colab\n",
    "2.   Calcular la ley de las siguientes variables aleatorias\n",
    "     *   La diferencia de las caras es mayor que 1\n",
    "     *   La suma de las caras sea par\n",
    "\n",
    "#### SOLUCIÓN\n",
    "\n",
    "* **La diferencia de las caras es mayor que 1.**\n",
    "\n",
    "    En este caso vamos a definir una variable como sigue,\n",
    "    $$\n",
    "    X =\n",
    "    \\begin{cases} \n",
    "    1 & \\text{si } |i - j| > 1, \\\\\n",
    "    0 & \\text{si } |i - j| \\leq 1.\n",
    "    \\end{cases}$$\n",
    "\n",
    "    Donde, $ i,j \\in \\{1,2,3,4,5,6\\}$ son los posibles resultados de lanzar un dado justo.\n",
    "    \n",
    "    Para este caso, $R_{x} = \\{0,1\\}$.\n",
    "\n",
    "    Ahora, sea el experimento aleatorio de lanzar dos dados justos:\n",
    "    * $\\Omega = \\{1,2,3,4,5,6\\}\\times \\{1,2,3,4,5,6\\} $\n",
    "    * $\\mathcal{F} = P(\\Omega)$\n",
    "    * Para $w=(i,j)$ donde $i,j\\in\\{1,...,6\\}$ talque\n",
    "       $$\\mathbb{P}( \\{ \\omega \\} )=\\frac{1}{\\#\\Omega}=\\frac{1}{6^{2}}=\\frac{1}{36}$$\n",
    "       \n",
    "    Sea $E_{1}$ el evento en el que la diferencia de las caras es mayor que 1, es decir, el evento que hace que nuestra variable aleatoria X sea 1.\n",
    "\n",
    "$$E_{1} = \\{(i,j)\\in\\Omega \\mid |i+j| > 1 \\} $$"
   ]
  },
  {
   "cell_type": "code",
   "execution_count": 2,
   "id": "83812702",
   "metadata": {},
   "outputs": [
    {
     "name": "stdout",
     "output_type": "stream",
     "text": [
      "2     2/9\n",
      "3     1/6\n",
      "4     1/9\n",
      "5    1/18\n",
      "dtype: object\n",
      "La probabilidad de ocurrencia del evento E_1 es 5/9\n"
     ]
    }
   ],
   "source": [
    "#Ahora calculamos nuestro espacio de resultados para el evento S_E_1 tal como se definió anteriormente\n",
    "#Usamos compresion de diccionarios\n",
    "E_1 = {(i,j): abs(i-j) for i,j in Omega if abs(i-j) > 1}\n",
    "\n",
    "#Agregamos en un diccionario los posbiles resultados para cada n, es decir, para cada elemento de S\n",
    "#Generamos el diccionario\n",
    "d_E_1 = defaultdict(set)\n",
    "#Añadimos los posibles resultados y los resultados que llevan a ese resultado\n",
    "for i,j in E_1.items():\n",
    "  d_E_1[j].add(i) #añadiendo al diccionario las llaves\n",
    "\n",
    "#Ahora calculamos la ley o la distribucion de nuestra Variable Aleatoria Sn\n",
    "#Usando compresion de diccionarios\n",
    "leydE_1 = {k : P(A,Omega) for k,A in d_E_1.items()}\n",
    "proba_tot_E_1 = sum(leydE_1.values())\n",
    "\n",
    "#Veamos la distribucion ordenada\n",
    "leydE_1 = pd.Series(leydE_1)\n",
    "leydE_1 = leydE_1.sort_index()\n",
    "\n",
    "#Veamos como se ve la distribución\n",
    "print(leydE_1)\n",
    "\n",
    "#Veamos la probabilidad del evento E1\n",
    "print(f'La probabilidad de ocurrencia del evento E_1 es {proba_tot_E_1}')"
   ]
  },
  {
   "cell_type": "markdown",
   "id": "122d6e94",
   "metadata": {},
   "source": [
    "Por lo tanto, la probabilidad de ocurrencia para el evento $E_{1}$ es de $\\frac{5}{9}$, es decir, $$\\mathbb{P}[X=1]=\\frac{5}{9}$$\n",
    "\n",
    "Ahora, ea $E_{1}$ el evento en el que la diferencia de las caras es menor o igual que 1, es decir, el evento que hace que nuestra variable aleatoria X sea 0.\n",
    "\n",
    "$$E_{2} = \\{(i,j)\\in\\Omega \\mid |i+j| <= 1 \\} $$\n",
    "\n",
    "Podemos observar que el evento $E_{2}$ es complementario al evento $E_{1}$, por lo que, la probabilidad de ocurrencia para el evento $E_{2}$ es de $\\frac{4}{9}$, es decir, $$\\mathbb{P}[X=0]=\\frac{4}{9}$$\n",
    "\n",
    "Lo anterior se puede validar de la siguiente manera,"
   ]
  },
  {
   "cell_type": "code",
   "execution_count": 3,
   "id": "92d0819d",
   "metadata": {},
   "outputs": [
    {
     "name": "stdout",
     "output_type": "stream",
     "text": [
      "0     1/6\n",
      "1    5/18\n",
      "dtype: object\n",
      "La probabilidad de ocurrencia del evento E_1 es 4/9\n"
     ]
    }
   ],
   "source": [
    "#Ahora calculamos nuestro espacio de resultados para el evento S_E_1 tal como se definió anteriormente\n",
    "#Usamos compresion de diccionarios\n",
    "E_2 = {(i,j): abs(i-j) for i,j in Omega if abs(i-j) <= 1}\n",
    "\n",
    "#Agregamos en un diccionario los posbiles resultados para cada n, es decir, para cada elemento de S\n",
    "#Generamos el diccionario\n",
    "d_E_2 = defaultdict(set)\n",
    "#Añadimos los posibles resultados y los resultados que llevan a ese resultado\n",
    "for i,j in E_2.items():\n",
    "  d_E_2[j].add(i) #añadiendo al diccionario las llaves\n",
    "\n",
    "#Ahora calculamos la ley o la distribucion de nuestra Variable Aleatoria Sn\n",
    "#Usando compresion de diccionarios\n",
    "leydE_2 = {k : P(A,Omega) for k,A in d_E_2.items()}\n",
    "#Calculamos la probabilidad total del evento\n",
    "proba_tot_E_2 = sum(leydE_2.values())\n",
    "\n",
    "#Veamos la distribucion ordenada\n",
    "leydE_2 = pd.Series(leydE_2)\n",
    "leydE_2 = leydE_2.sort_index()\n",
    "\n",
    "#Veamos como se ve la distribución\n",
    "print(leydE_2)\n",
    "\n",
    "#Veamos la probabilidad del evento E1\n",
    "print(f'La probabilidad de ocurrencia del evento E_1 es {proba_tot_E_2}')"
   ]
  },
  {
   "cell_type": "markdown",
   "id": "c0e4d550",
   "metadata": {},
   "source": [
    "Como podemos observar, en efecto, $$\\mathbb{P}[X=0]=\\frac{4}{9}_{\\blacksquare}$$\n",
    "\n",
    "* **La suma de las caras es par**\n",
    "\n",
    "    En este caso vamos a definir una variable como sigue,\n",
    "    $$\n",
    "    Y =\n",
    "    \\begin{cases} \n",
    "    1 & \\text{si } (i+j)\\,\\%\\,2\\, = \\,0, \\\\\n",
    "    0 & \\text{si } (i+j)\\,\\%\\,2\\, != \\,0.\n",
    "    \\end{cases}$$\n",
    "\n",
    "    Donde, $ i,j \\in \\{1,2,3,4,5,6\\}$ son los posibles resultados de lanzar un dado justo y % representa la operación modulo.\n",
    "    \n",
    "    Para este caso, $R_{Y} = \\{0,1\\}$.\n",
    "\n",
    "    Para este caso,\n",
    "    Sea el experimento aleatorio de lanzar dos dados justos:\n",
    "    * $\\Omega = \\{1,2,3,4,5,6\\}\\times \\{1,2,3,4,5,6\\} $\n",
    "    * $\\mathcal{F} = P(\\Omega)$\n",
    "    * Para $w=(i,j)$ donde $i,j\\in\\{1,...,6\\}$ talque\n",
    "       $$\\mathbb{P}( \\{ \\omega \\} )=\\frac{1}{\\#\\Omega}=\\frac{1}{6^{2}}=\\frac{1}{36}$$\n",
    "    Sea $S_{E_{2}}$ el evento en el que la suma de las caras es par, es decir,\n",
    "\n",
    "$$E_{1} = \\{(i,j)\\in\\Omega \\mid (i+j)\\,\\%\\,2\\, = \\,0\\}$$"
   ]
  },
  {
   "cell_type": "code",
   "execution_count": 4,
   "id": "72064732",
   "metadata": {},
   "outputs": [
    {
     "name": "stdout",
     "output_type": "stream",
     "text": [
      "{True: Fraction(1, 2)}\n",
      "La probabilidad de ocurrencia del evento E_1 es 1/2\n"
     ]
    }
   ],
   "source": [
    "#Ahora calculamos nuestro espacio de resultados para el evento E_2 tal como se definió anteriormente\n",
    "#Usamos compresion de diccionarios\n",
    "E_1 = {(i,j): (i+j) % 2 == 0 for i,j in Omega if (i+j) % 2 == 0}\n",
    "\n",
    "#Agregamos en un diccionario los posbiles resultados para cada n, es decir, para cada elemento de S\n",
    "#Generamos el diccionario\n",
    "dE_1 = defaultdict(set)\n",
    "#Añadimos los posibles resultados y los resultados que llevan a ese resultado\n",
    "for i,j in E_1.items():\n",
    "  dE_1[j].add(i) #añadiendo al diccionario las llaves\n",
    "\n",
    "#Ahora calculamos la ley o la distribucion de nuestra Variable Aleatoria Sn\n",
    "#Usando compresion de diccionarios\n",
    "leydE_1 = {k : P(A,Omega) for k,A in dE_1.items()}\n",
    "#Calculamos la probabilidad total del evento\n",
    "proba_tot_E_1 = sum(leydE_1.values())\n",
    "\n",
    "#Veamos la distribucion ordenada\n",
    "#leydE_1 = pd.Series(leydE_1)\n",
    "#leydE_1 = leydE_1.sort_index()\n",
    "\n",
    "#Veamos como se ve la distribución\n",
    "print(leydE_1)\n",
    "\n",
    "#Veamos la probabilidad del evento E1\n",
    "print(f'La probabilidad de ocurrencia del evento E_1 es {proba_tot_E_1}')"
   ]
  },
  {
   "cell_type": "markdown",
   "id": "14234a13",
   "metadata": {},
   "source": [
    "Por lo tanto, la probabilidad de ocurrencia para el evento $E_{1}$ es de $\\frac{1}{2}$, es decir, $$\\mathbb{P}[Y=1]=\\frac{1}{2}$$\n",
    "\n",
    "Ahora, sea $E_{1}$ el evento en el que la suma de las caras es impar, es decir, el evento que hace que nuestra variable aleatoria Y sea 0.\n",
    "\n",
    "$$E_{1} = \\{(i,j)\\in\\Omega \\mid (i+j)\\,\\%\\,2\\, != \\,0\\}$$\n",
    "\n",
    "Podemos observar que el evento $E_{2}$ es complementario al evento $E_{1}$, por lo que, la probabilidad de ocurrencia para el evento $E_{2}$ es de $\\frac{1}{2}$, es decir, $$\\mathbb{P}[Y=0]=\\frac{1}{2}$$\n",
    "\n",
    "Lo anterior se puede validar de la siguiente manera,"
   ]
  },
  {
   "cell_type": "code",
   "execution_count": 5,
   "id": "a31ef41a",
   "metadata": {},
   "outputs": [
    {
     "name": "stdout",
     "output_type": "stream",
     "text": [
      "{True: Fraction(1, 2)}\n",
      "La probabilidad de ocurrencia del evento E_2 es 1/2\n"
     ]
    }
   ],
   "source": [
    "#Ahora calculamos nuestro espacio de resultados para el evento E_2 tal como se definió anteriormente\n",
    "#Usamos compresion de diccionarios\n",
    "E_2 = {(i,j): (i+j) % 2 != 0 for i,j in Omega if (i+j) % 2 != 0}\n",
    "\n",
    "#Agregamos en un diccionario los posbiles resultados para cada n, es decir, para cada elemento de S\n",
    "#Generamos el diccionario\n",
    "dE_2 = defaultdict(set)\n",
    "#Añadimos los posibles resultados y los resultados que llevan a ese resultado\n",
    "for i,j in E_2.items():\n",
    "  dE_2[j].add(i) #añadiendo al diccionario las llaves\n",
    "\n",
    "#Ahora calculamos la ley o la distribucion de nuestra Variable Aleatoria Sn\n",
    "#Usando compresion de diccionarios\n",
    "leydE_2 = {k : P(A,Omega) for k,A in dE_2.items()}\n",
    "#Calculamos la probabilidad total del evento\n",
    "proba_tot_E_2 = sum(leydE_2.values())\n",
    "\n",
    "#Veamos la distribucion ordenada\n",
    "#leydE_2 = pd.Series(leydE_2)\n",
    "#leydE_2 = leydE_2.sort_index()\n",
    "\n",
    "#Veamos como se ve la distribución\n",
    "print(leydE_2)\n",
    "\n",
    "#Veamos la probabilidad del evento E2\n",
    "print(f'La probabilidad de ocurrencia del evento E_2 es {proba_tot_E_2}')"
   ]
  },
  {
   "cell_type": "markdown",
   "id": "a31d2188",
   "metadata": {},
   "source": [
    "Como podemos observar, en efecto, $$\\mathbb{P}[Y=0]=\\frac{1}{2}_{\\blacksquare}$$"
   ]
  },
  {
   "cell_type": "markdown",
   "id": "e4900f2f",
   "metadata": {},
   "source": [
    "**3. Verifica en cada caso, que**\n",
    "\n",
    "   $$\\sum_{k\\in R_{X}}\\mathbb{P}(X=k) = 1$$\n",
    "   \n",
    "   **SOLUCIÓN**\n",
    "   \n",
    "   * En el primer caso definimos a nuestra variable aleatoria como:\n",
    "        $$\n",
    "        X =\n",
    "        \\begin{cases} \n",
    "        1 & \\text{si } |i - j| > 1, \\\\\n",
    "        0 & \\text{si } |i - j| \\leq 1.\n",
    "        \\end{cases}$$\n",
    "\n",
    "        Donde, $ i,j \\in \\{1,2,3,4,5,6\\}$ son los posibles resultados de lanzar un dado justo y $R_{X} = \\{0,1\\}$.\n",
    "        \n",
    "        Tras realizar los calculos en los puntos anteriores, sabemos que\n",
    "        \n",
    "        $$\n",
    "        \\mathbb{P}[X] =\n",
    "        \\begin{cases} \n",
    "        \\frac{5}{9} & \\text{si } |i - j| > 1, \\\\\n",
    "        \\frac{4}{9} & \\text{si } |i - j| \\leq 1.\n",
    "        \\end{cases}$$\n",
    "        \n",
    "        Por lo tanto, $$\\sum_{k\\in R_{X}}\\mathbb{P}(X=k) = \\mathbb{P}(X=1) + \\mathbb{P}(X=0) = \\frac{5}{9} + \\frac{4}{9} = 1 _{\\blacksquare}$$\n",
    "        \n",
    "   * En el segundo caso definimos a nuestra variable aleatoria como:\n",
    "        $$\n",
    "        Y =\n",
    "        \\begin{cases} \n",
    "        1 & \\text{si } (i+j)\\,\\%\\,2\\, = \\,0, \\\\\n",
    "        0 & \\text{si } (i+j)\\,\\%\\,2, != \\,0.\n",
    "        \\end{cases}$$\n",
    "\n",
    "        Donde, $ i,j \\in \\{1,2,3,4,5,6\\}$ son los posibles resultados de lanzar un dado justo y % representa la operación modulo. Para este caso, $R_{Y} = \\{0,1\\}$.\n",
    "        \n",
    "        Tras realizar los calculos en los puntos anteriores, sabemos que\n",
    "        \n",
    "        $$\n",
    "        \\mathbb{P}[Y] =\n",
    "        \\begin{cases} \n",
    "        \\frac{1}{2} & \\text{si } (i+j)\\,\\%\\,2\\, = \\,0, \\\\\n",
    "        \\frac{1}{2} & \\text{si } (i+j)\\,\\%\\,2, != \\,0.\n",
    "        \\end{cases}$$\n",
    "        \n",
    "        Por lo tanto, $$\\sum_{k\\in R_{Y}}\\mathbb{P}(Y=k) = \\mathbb{P}(Y=1) + \\mathbb{P}(Y=0) = \\frac{1}{2} + \\frac{1}{2} = 1 _{\\blacksquare}$$\n",
    "        \n",
    "        \n",
    "**4. Gráfica y calcula la función de distribución de la v.a. S (la suma de los resultados es n).**"
   ]
  },
  {
   "cell_type": "code",
   "execution_count": 6,
   "id": "c4d6b1b1",
   "metadata": {},
   "outputs": [
    {
     "data": {
      "image/png": "[encoded data removed]",
      "text/plain": [
       "<Figure size 640x480 with 1 Axes>"
      ]
     },
     "metadata": {},
     "output_type": "display_data"
    }
   ],
   "source": [
    "#Importamo la libreria para realizar la grafica \n",
    "import matplotlib.pyplot as plt\n",
    "\n",
    "# Graficar la distribucion de la variable aleatoria S\n",
    "plt.bar(leyS.index, [float(p) for p in leyS], color='skyblue')  # Convertimos los valores de Fraction a float\n",
    "plt.xlabel('Resultado de la suma de los dos dados')\n",
    "plt.ylabel('Probabilidad')\n",
    "plt.title('Distribución Variable Aleatoria S (La suma de los resultados es n)')\n",
    "plt.xticks(leyS.index)\n",
    "plt.grid(True, axis='y', linestyle='--', alpha=0.7)\n",
    "\n",
    "# Mostrar la gráfica\n",
    "plt.show()"
   ]
  }
 ],
 "metadata": {
  "kernelspec": {
   "display_name": "Python 3 (ipykernel)",
   "language": "python",
   "name": "python3"
  },
  "language_info": {
   "codemirror_mode": {
    "name": "ipython",
    "version": 3
   },
   "file_extension": ".py",
   "mimetype": "text/x-python",
   "name": "python",
   "nbconvert_exporter": "python",
   "pygments_lexer": "ipython3",
   "version": "3.11.4"
  }
 },
 "nbformat": 4,
 "nbformat_minor": 5
}
